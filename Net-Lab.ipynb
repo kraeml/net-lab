{
 "cells": [
  {
   "cell_type": "markdown",
   "metadata": {},
   "source": [
    "# IAV-Net Lab"
   ]
  },
  {
   "cell_type": "markdown",
   "metadata": {},
   "source": [
    "## Aufgabenstellung\n",
    "\n",
    "* Darstellen der Bridges wie `lxbr0`.\n",
    "* Darstellen der virtuellen PCs wie `bsa-pc1` als LXC Container.\n",
    "\n",
    "Erweiterung:\n",
    "\n",
    "* Konfiguration der Bridges und virtuellen PCs.\n",
    "\n",
    "Top:\n",
    "\n",
    "* Öffnen einer ssh Shell zu den PCs."
   ]
  },
  {
   "cell_type": "markdown",
   "metadata": {},
   "source": [
    "## Darstellung\n",
    "\n",
    "Tabellen in plain HTML5 mit Hilfe von Jinja2 Template.\n",
    "\n",
    "Der Webserver soll mit `flask` (Python) oder mit `nodered` (JavaScript und Python) realisiert werden.\n",
    "\n"
   ]
  },
  {
   "cell_type": "markdown",
   "metadata": {},
   "source": [
    "### Bridges"
   ]
  },
  {
   "cell_type": "markdown",
   "metadata": {},
   "source": [
    "| Name | Status | Domain | IP/CDIR | Range | fixe IPs |\n",
    "|------|--------|--------|---------|-------|----------|\n",
    "| lxbr0 | up    | lxc    | 10.0.3.1/24 | 10.0.3.20 bis 10.0.3.254 | 10.0.3.2 |\n",
    "| ...  |  ...   | ...    |  ...   | ...   | ...      |"
   ]
  },
  {
   "cell_type": "markdown",
   "metadata": {},
   "source": [
    "### PCs"
   ]
  },
  {
   "cell_type": "markdown",
   "metadata": {},
   "source": [
    "| Name | Template | Status | IP |\n",
    "|------|----------|--------|----|\n",
    "| bsa-pc1 | ubuntu | run   | 10.0.3.2 |\n",
    "| ...  | ...      | ...    | ... |"
   ]
  },
  {
   "cell_type": "markdown",
   "metadata": {},
   "source": [
    "## Proof of concept\n",
    "\n",
    "* Mit Python `bridges` und `lxc`-Container verwalten.\n",
    "* Arbeiten mit Schleifen in Jinja2."
   ]
  },
  {
   "cell_type": "markdown",
   "metadata": {},
   "source": [
    "Auslesen von `lxc` und `bridges` wäre möglich.\n",
    "\n",
    "Websites:\n",
    "\n",
    "* https://motoma.io/bridging-the-network-in-pure-python/\n",
    "* https://linuxcontainers.org/lxc/documentation/\n",
    "* https://github.com/AdaptiveScale/lxdui\n",
    "* https://github.com/udragon/pybrctl\n",
    "* https://github.com/cloud9ers/pylxc\n",
    "* https://github.com/rlisagor/pynetlinux\n",
    "\n",
    "Websites Jinja2\n",
    "\n",
    "* https://stackoverflow.com/questions/12655155/jinja2-for-loop-with-conditions\n",
    "* https://stackoverflow.com/questions/9198334/how-to-build-up-a-html-table-with-a-simple-for-loop-in-jinja2\n",
    "* https://sgros-students.blogspot.de/2013/04/lxc-python-bindings.html\n",
    "\n",
    "Ansible mit Python.\n",
    "\n",
    "* Module ansible\n",
    "* http://docs.ansible.com/ansible/latest/dev_guide/developing_api.html\n",
    "\n",
    "Shell\n",
    "\n",
    "* https://www.cyberciti.biz/faq/python-run-external-command-and-get-output/"
   ]
  },
  {
   "cell_type": "markdown",
   "metadata": {},
   "source": [
    "## Resüme\n",
    "\n",
    "Verwenden der `python-lxc` API.\n",
    "\n",
    "* Achtung läuft nur als `root`, da `lxc` als `root` ausgeführt werden muss.\n",
    "\n",
    "Aufrufen von Shellkommandos via Python. "
   ]
  },
  {
   "cell_type": "markdown",
   "metadata": {},
   "source": [
    "## Externe Programme mit Python"
   ]
  },
  {
   "cell_type": "markdown",
   "metadata": {},
   "source": [
    "* https://docs.python.org/3/library/subprocess.html\n",
    "\n",
    "* https://www.python-kurs.eu/os_modul_shell.php"
   ]
  },
  {
   "cell_type": "code",
   "execution_count": 1,
   "metadata": {},
   "outputs": [
    {
     "name": "stdout",
     "output_type": "stream",
     "text": [
      "insgesamt 68\n",
      "\n",
      "2896658  4 drwxrwxr-x 6 vagrant vagrant  4096 Mär  7 10:45 .\n",
      "\n",
      "2896655  4 drwxrwxr-x 6 vagrant vagrant  4096 Feb 17 20:38 ..\n",
      "\n",
      "2899210  4 drwxr-xr-x 2 vagrant vagrant  4096 Mär  7 07:39 .ipynb_checkpoints\n",
      "\n",
      "2899069 16 -rw-r--r-- 1 vagrant vagrant 12342 Mär  7 10:45 Net-Lab.ipynb\n",
      "\n",
      "2897601 20 -rw-r--r-- 1 vagrant vagrant 17885 Mär  7 09:49 notebook.tex\n",
      "\n",
      "2883593  4 drwxrwxr-x 8 vagrant vagrant  4096 Feb 21 12:01 python-kopf-bis-fuss\n",
      "\n",
      "2899214  4 drwxr-xr-x 7 vagrant vagrant  4096 Feb 28 11:56 python-kopf-bis-fuss-feb18\n",
      "\n",
      "2896941  4 drwxrwxr-x 3 vagrant vagrant  4096 Feb 17 20:38 python_routine_aufgaben\n",
      "\n",
      "2899121  8 -rw-r--r-- 1 vagrant vagrant  5143 Feb 28 10:45 Untitled.ipynb\n",
      "\n"
     ]
    }
   ],
   "source": [
    "import os\n",
    "dir = os.popen(\"ls -lisa\").readlines()\n",
    "for i in dir:\n",
    "    print(i)"
   ]
  },
  {
   "cell_type": "code",
   "execution_count": 2,
   "metadata": {},
   "outputs": [
    {
     "name": "stdout",
     "output_type": "stream",
     "text": [
      "insgesamt 64\n",
      "2896658  4 drwxrwxr-x 6 vagrant vagrant  4096 Mär  7 10:47 .\n",
      "2896655  4 drwxrwxr-x 6 vagrant vagrant  4096 Feb 17 20:38 ..\n",
      "2899210  4 drwxr-xr-x 2 vagrant vagrant  4096 Mär  7 07:39 .ipynb_checkpoints\n",
      "2899069 12 -rw-r--r-- 1 vagrant vagrant  8526 Mär  7 10:47 Net-Lab.ipynb\n",
      "2897601 20 -rw-r--r-- 1 vagrant vagrant 17885 Mär  7 09:49 notebook.tex\n",
      "2883593  4 drwxrwxr-x 8 vagrant vagrant  4096 Feb 21 12:01 python-kopf-bis-fuss\n",
      "2899214  4 drwxr-xr-x 7 vagrant vagrant  4096 Feb 28 11:56 python-kopf-bis-fuss-feb18\n",
      "2896941  4 drwxrwxr-x 3 vagrant vagrant  4096 Feb 17 20:38 python_routine_aufgaben\n",
      "2899121  8 -rw-r--r-- 1 vagrant vagrant  5143 Feb 28 10:45 Untitled.ipynb\n",
      "\n"
     ]
    }
   ],
   "source": [
    "import os\n",
    "dir = os.popen(\"ls -lisa\").read()\n",
    "print(dir)"
   ]
  },
  {
   "cell_type": "code",
   "execution_count": 3,
   "metadata": {},
   "outputs": [
    {
     "name": "stdout",
     "output_type": "stream",
     "text": [
      "Help on function popen in module os:\n",
      "\n",
      "popen(cmd, mode='r', buffering=-1)\n",
      "    # Supply os.popen()\n",
      "\n"
     ]
    }
   ],
   "source": [
    "help(os.popen)"
   ]
  },
  {
   "cell_type": "markdown",
   "metadata": {},
   "source": [
    "> Modul subprocess soll andere Module ersetzen:\n",
    "\n",
    "    os.system\n",
    "    os.spawn*\n",
    "    os.popen*\n",
    "    popen2.*\n",
    "    commands.*\n",
    "\n",
    "https://www.python-kurs.eu/os_modul_shell.php"
   ]
  },
  {
   "cell_type": "code",
   "execution_count": 4,
   "metadata": {},
   "outputs": [],
   "source": [
    "import subprocess"
   ]
  },
  {
   "cell_type": "code",
   "execution_count": 5,
   "metadata": {},
   "outputs": [
    {
     "data": {
      "text/plain": [
       "CompletedProcess(args=['ls', '-l'], returncode=0)"
      ]
     },
     "execution_count": 5,
     "metadata": {},
     "output_type": "execute_result"
    }
   ],
   "source": [
    "subprocess.run([\"ls\", \"-l\"])"
   ]
  },
  {
   "cell_type": "code",
   "execution_count": 6,
   "metadata": {},
   "outputs": [],
   "source": [
    "import shlex"
   ]
  },
  {
   "cell_type": "code",
   "execution_count": 7,
   "metadata": {},
   "outputs": [
    {
     "name": "stdout",
     "output_type": "stream",
     "text": [
      "ls -l\n"
     ]
    }
   ],
   "source": [
    "command_line = input()"
   ]
  },
  {
   "cell_type": "code",
   "execution_count": 8,
   "metadata": {},
   "outputs": [],
   "source": [
    "args = shlex.split(command_line)"
   ]
  },
  {
   "cell_type": "code",
   "execution_count": 9,
   "metadata": {},
   "outputs": [
    {
     "name": "stdout",
     "output_type": "stream",
     "text": [
      "['ls', '-l']\n"
     ]
    }
   ],
   "source": [
    "print(args)"
   ]
  },
  {
   "cell_type": "code",
   "execution_count": 10,
   "metadata": {},
   "outputs": [],
   "source": [
    "p = subprocess.run(args, stdout=subprocess.PIPE, shell=True)"
   ]
  },
  {
   "cell_type": "code",
   "execution_count": 11,
   "metadata": {},
   "outputs": [
    {
     "name": "stdout",
     "output_type": "stream",
     "text": [
      "Help on CompletedProcess in module subprocess object:\n",
      "\n",
      "class CompletedProcess(builtins.object)\n",
      " |  A process that has finished running.\n",
      " |  \n",
      " |  This is returned by run().\n",
      " |  \n",
      " |  Attributes:\n",
      " |    args: The list or str args passed to run().\n",
      " |    returncode: The exit code of the process, negative for signals.\n",
      " |    stdout: The standard output (None if not captured).\n",
      " |    stderr: The standard error (None if not captured).\n",
      " |  \n",
      " |  Methods defined here:\n",
      " |  \n",
      " |  __init__(self, args, returncode, stdout=None, stderr=None)\n",
      " |      Initialize self.  See help(type(self)) for accurate signature.\n",
      " |  \n",
      " |  __repr__(self)\n",
      " |      Return repr(self).\n",
      " |  \n",
      " |  check_returncode(self)\n",
      " |      Raise CalledProcessError if the exit code is non-zero.\n",
      " |  \n",
      " |  ----------------------------------------------------------------------\n",
      " |  Data descriptors defined here:\n",
      " |  \n",
      " |  __dict__\n",
      " |      dictionary for instance variables (if defined)\n",
      " |  \n",
      " |  __weakref__\n",
      " |      list of weak references to the object (if defined)\n",
      "\n"
     ]
    }
   ],
   "source": [
    "help(p)"
   ]
  },
  {
   "cell_type": "code",
   "execution_count": 13,
   "metadata": {},
   "outputs": [],
   "source": [
    "p = subprocess.Popen(\"ls -l\", stdout=subprocess.PIPE, shell=True)"
   ]
  },
  {
   "cell_type": "code",
   "execution_count": 14,
   "metadata": {},
   "outputs": [],
   "source": [
    "(output, err) = p.communicate()"
   ]
  },
  {
   "cell_type": "code",
   "execution_count": 15,
   "metadata": {},
   "outputs": [
    {
     "name": "stdout",
     "output_type": "stream",
     "text": [
      "insgesamt 52\n",
      "-rw-r--r-- 1 vagrant vagrant 10735 Mär  7 10:53 Net-Lab.ipynb\n",
      "-rw-r--r-- 1 vagrant vagrant 17885 Mär  7 09:49 notebook.tex\n",
      "drwxrwxr-x 8 vagrant vagrant  4096 Feb 21 12:01 python-kopf-bis-fuss\n",
      "drwxr-xr-x 7 vagrant vagrant  4096 Feb 28 11:56 python-kopf-bis-fuss-feb18\n",
      "drwxrwxr-x 3 vagrant vagrant  4096 Feb 17 20:38 python_routine_aufgaben\n",
      "-rw-r--r-- 1 vagrant vagrant  5143 Feb 28 10:45 Untitled.ipynb\n",
      "\n"
     ]
    }
   ],
   "source": [
    "print(output.decode(\"utf-8\"))"
   ]
  },
  {
   "cell_type": "code",
   "execution_count": 16,
   "metadata": {},
   "outputs": [
    {
     "name": "stdout",
     "output_type": "stream",
     "text": [
      "None\n"
     ]
    }
   ],
   "source": [
    "print(err)"
   ]
  },
  {
   "cell_type": "code",
   "execution_count": 17,
   "metadata": {},
   "outputs": [],
   "source": [
    "p = subprocess.Popen(\"date\", stdout=subprocess.PIPE, shell=True)"
   ]
  },
  {
   "cell_type": "code",
   "execution_count": 18,
   "metadata": {},
   "outputs": [],
   "source": [
    "(output, err) = p.communicate()"
   ]
  },
  {
   "cell_type": "markdown",
   "metadata": {},
   "source": [
    "Warten bis der Subprocess beendet ist."
   ]
  },
  {
   "cell_type": "code",
   "execution_count": 19,
   "metadata": {},
   "outputs": [],
   "source": [
    "p_status = p.wait()"
   ]
  },
  {
   "cell_type": "code",
   "execution_count": 20,
   "metadata": {},
   "outputs": [
    {
     "name": "stdout",
     "output_type": "stream",
     "text": [
      "Mi 7. Mär 10:58:35 UTC 2018\n",
      "\n"
     ]
    }
   ],
   "source": [
    "print(output.decode('utf-8'))"
   ]
  },
  {
   "cell_type": "code",
   "execution_count": 21,
   "metadata": {},
   "outputs": [
    {
     "name": "stdout",
     "output_type": "stream",
     "text": [
      "0\n"
     ]
    }
   ],
   "source": [
    "print(p_status)"
   ]
  },
  {
   "cell_type": "code",
   "execution_count": 69,
   "metadata": {},
   "outputs": [],
   "source": [
    "p = subprocess.Popen(\"pgrep -a dnsmasq | grep lxc | cut -d ' ' -f 2-\", stdout=subprocess.PIPE, shell=True)"
   ]
  },
  {
   "cell_type": "code",
   "execution_count": 70,
   "metadata": {},
   "outputs": [],
   "source": [
    "(output, err) = p.communicate()"
   ]
  },
  {
   "cell_type": "code",
   "execution_count": 71,
   "metadata": {},
   "outputs": [
    {
     "name": "stdout",
     "output_type": "stream",
     "text": [
      "dnsmasq --conf-file=/etc/lxc/dnsmasq.conf -s lxc -S /lxc/ -u lxc-dnsmasq --strict-order --bind-interfaces --pid-file=/run/lxc/dnsmasq.pid --listen-address 10.0.3.1 --dhcp-range 10.0.3.20,10.0.3.254 --dhcp-lease-max=253 --dhcp-no-override --except-interface=lo --interface=lxcbr0 --dhcp-leasefile=/var/lib/misc/dnsmasq.lxcbr0.leases --dhcp-authoritative\n",
      "\n"
     ]
    }
   ],
   "source": [
    "print(output.decode('utf-8'))"
   ]
  },
  {
   "cell_type": "code",
   "execution_count": 74,
   "metadata": {},
   "outputs": [
    {
     "data": {
      "text/plain": [
       "['dnsmasq',\n",
       " '--conf-file=/etc/lxc/dnsmasq.conf',\n",
       " '-s',\n",
       " 'lxc',\n",
       " '-S',\n",
       " '/lxc/',\n",
       " '-u',\n",
       " 'lxc-dnsmasq',\n",
       " '--strict-order',\n",
       " '--bind-interfaces',\n",
       " '--pid-file=/run/lxc/dnsmasq.pid',\n",
       " '--listen-address',\n",
       " '10.0.3.1',\n",
       " '--dhcp-range',\n",
       " '10.0.3.20,10.0.3.254',\n",
       " '--dhcp-lease-max=253',\n",
       " '--dhcp-no-override',\n",
       " '--except-interface=lo',\n",
       " '--interface=lxcbr0',\n",
       " '--dhcp-leasefile=/var/lib/misc/dnsmasq.lxcbr0.leases',\n",
       " '--dhcp-authoritative\\n']"
      ]
     },
     "execution_count": 74,
     "metadata": {},
     "output_type": "execute_result"
    }
   ],
   "source": [
    "dnsmasq_opt = output.decode('utf-8').split(' ')\n",
    "dnsmasq_opt"
   ]
  },
  {
   "cell_type": "code",
   "execution_count": 121,
   "metadata": {},
   "outputs": [],
   "source": [
    "lxcbr0 = {}"
   ]
  },
  {
   "cell_type": "code",
   "execution_count": 122,
   "metadata": {},
   "outputs": [
    {
     "data": {
      "text/plain": [
       "{}"
      ]
     },
     "execution_count": 122,
     "metadata": {},
     "output_type": "execute_result"
    }
   ],
   "source": [
    "lxcbr0"
   ]
  },
  {
   "cell_type": "code",
   "execution_count": 123,
   "metadata": {},
   "outputs": [],
   "source": [
    "lxcbr0[dnsmasq_opt[0]] = {}"
   ]
  },
  {
   "cell_type": "code",
   "execution_count": 124,
   "metadata": {},
   "outputs": [
    {
     "data": {
      "text/plain": [
       "{'dnsmasq': {}}"
      ]
     },
     "execution_count": 124,
     "metadata": {},
     "output_type": "execute_result"
    }
   ],
   "source": [
    "lxcbr0"
   ]
  },
  {
   "cell_type": "code",
   "execution_count": 125,
   "metadata": {},
   "outputs": [],
   "source": [
    "for i in dnsmasq_opt:\n",
    "    fullname_opt = [\"--conf-file\", \"--pid-file\", \"--dhcp-lease-max\", \"--except-interface\", \"--interface\", \"--dhcp-leasefile\"]\n",
    "    value_opt = [\"-s\", \"-S\", \"-u\", \"--listen-address\", \"--dhcp-range\"]\n",
    "    for j in fullname_opt:\n",
    "        if j in i:\n",
    "            lxcbr0[\"dnsmasq\"][j.replace(\"-\",\"\")] = i.split('=')[1]\n",
    "    for j in value_opt:\n",
    "        if j in i:\n",
    "            lxcbr0[\"dnsmasq\"][j.replace(\"-\",\"\")] = dnsmasq_opt[dnsmasq_opt.index(i)+1]"
   ]
  },
  {
   "cell_type": "code",
   "execution_count": 126,
   "metadata": {},
   "outputs": [
    {
     "data": {
      "text/plain": [
       "{'dnsmasq': {'S': '/lxc/',\n",
       "  'conffile': '/etc/lxc/dnsmasq.conf',\n",
       "  'dhcpleasefile': '/var/lib/misc/dnsmasq.lxcbr0.leases',\n",
       "  'dhcpleasemax': '253',\n",
       "  'dhcprange': '10.0.3.20,10.0.3.254',\n",
       "  'exceptinterface': 'lo',\n",
       "  'interface': 'lxcbr0',\n",
       "  'listenaddress': '10.0.3.1',\n",
       "  'pidfile': '/run/lxc/dnsmasq.pid',\n",
       "  's': '--bind-interfaces',\n",
       "  'u': 'lxc-dnsmasq'}}"
      ]
     },
     "execution_count": 126,
     "metadata": {},
     "output_type": "execute_result"
    }
   ],
   "source": [
    "lxcbr0"
   ]
  },
  {
   "cell_type": "code",
   "execution_count": 90,
   "metadata": {},
   "outputs": [
    {
     "data": {
      "text/plain": [
       "['--conf-file=/etc/lxc/dnsmasq.conf']"
      ]
     },
     "execution_count": 90,
     "metadata": {},
     "output_type": "execute_result"
    }
   ],
   "source": [
    "matching"
   ]
  },
  {
   "cell_type": "code",
   "execution_count": 63,
   "metadata": {},
   "outputs": [
    {
     "name": "stdout",
     "output_type": "stream",
     "text": [
      "[' 2102 ?        S      0:03 dnsmasq --conf-file=/etc/lxc/dnsmasq.conf -s lxc -S /lxc/ -u lxc-dnsmasq --strict-order --bind-interfaces --pid-file=/run/lxc/dnsmasq.pid --listen-address 10.0.3.1 --dhcp-range 10.0.3.20,10.0.3.254 --dhcp-lease-max=253 --dhcp-no-override --except-interface=lo --interface=lxcbr0 --dhcp-leasefile=/var/lib/misc/dnsmasq.lxcbr0.leases --dhcp-authoritative', '']\n"
     ]
    }
   ],
   "source": [
    "print(lxcbr0)"
   ]
  },
  {
   "cell_type": "code",
   "execution_count": null,
   "metadata": {},
   "outputs": [],
   "source": []
  }
 ],
 "metadata": {
  "_draft": {
   "nbviewer_url": "https://gist.github.com/1ffba7ec6094c6c80a5dc064baf5940c"
  },
  "gist": {
   "data": {
    "description": "rdf/itec/Net-Lab.ipynb",
    "public": true
   },
   "id": "1ffba7ec6094c6c80a5dc064baf5940c"
  },
  "kernelspec": {
   "display_name": "Python 3",
   "language": "python",
   "name": "python3"
  },
  "language_info": {
   "codemirror_mode": {
    "name": "ipython",
    "version": 3
   },
   "file_extension": ".py",
   "mimetype": "text/x-python",
   "name": "python",
   "nbconvert_exporter": "python",
   "pygments_lexer": "ipython3",
   "version": "3.5.2"
  },
  "toc": {
   "nav_menu": {},
   "number_sections": true,
   "sideBar": true,
   "skip_h1_title": false,
   "title_cell": "Table of Contents",
   "title_sidebar": "Contents",
   "toc_cell": false,
   "toc_position": {},
   "toc_section_display": true,
   "toc_window_display": false
  }
 },
 "nbformat": 4,
 "nbformat_minor": 2
}
