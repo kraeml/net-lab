{
 "cells": [
  {
   "cell_type": "markdown",
   "metadata": {},
   "source": [
    "# IAV-Net Lab"
   ]
  },
  {
   "cell_type": "markdown",
   "metadata": {},
   "source": [
    "## Aufgabenstellung\n",
    "\n",
    "* Darstellen der Bridges wie `lxbr0`.\n",
    "* Darstellen der virtuellen PCs wie `bsa-pc1` als LXC Container.\n",
    "\n",
    "Erweiterung:\n",
    "\n",
    "* Konfiguration der Bridges und virtuellen PCs.\n",
    "\n",
    "Top:\n",
    "\n",
    "* Öffnen einer ssh Shell zu den PCs."
   ]
  },
  {
   "cell_type": "markdown",
   "metadata": {},
   "source": [
    "## Darstellung\n",
    "\n",
    "Tabellen in plain HTML5 mit Hilfe von Jinja2 Template.\n",
    "\n",
    "Der Webserver soll mit `flask` (Python) oder mit `nodered` (JavaScript und Python) realisiert werden.\n",
    "\n"
   ]
  },
  {
   "cell_type": "markdown",
   "metadata": {},
   "source": [
    "### Bridges"
   ]
  },
  {
   "cell_type": "markdown",
   "metadata": {},
   "source": [
    "| Name | Status | Domain | IP/CDIR | Range | fixe IPs |\n",
    "|------|--------|--------|---------|-------|----------|\n",
    "| lxbr0 | up    | lxc    | 10.0.3.1/24 | 10.0.3.20 bis 10.0.3.254 | 10.0.3.2 |\n",
    "| ...  |  ...   | ...    |  ...   | ...   | ...      |"
   ]
  },
  {
   "cell_type": "markdown",
   "metadata": {},
   "source": [
    "### PCs"
   ]
  },
  {
   "cell_type": "markdown",
   "metadata": {},
   "source": [
    "| Name | Template | Status | IP |\n",
    "|------|----------|--------|----|\n",
    "| bsa-pc1 | ubuntu | run   | 10.0.3.2 |\n",
    "| ...  | ...      | ...    | ... |"
   ]
  },
  {
   "cell_type": "markdown",
   "metadata": {},
   "source": [
    "## Proof of concept\n",
    "\n",
    "* Mit Python `bridges` und `lxc`-Container verwalten.\n",
    "* Arbeiten mit Schleifen in Jinja2."
   ]
  },
  {
   "cell_type": "markdown",
   "metadata": {},
   "source": [
    "Auslesen von `lxc` und `bridges` wäre möglich.\n",
    "\n",
    "Websites:\n",
    "\n",
    "* https://motoma.io/bridging-the-network-in-pure-python/\n",
    "* https://linuxcontainers.org/lxc/documentation/\n",
    "* https://github.com/AdaptiveScale/lxdui\n",
    "* https://github.com/udragon/pybrctl\n",
    "* https://github.com/cloud9ers/pylxc\n",
    "* https://github.com/rlisagor/pynetlinux\n",
    "\n",
    "Websites Jinja2\n",
    "\n",
    "* https://stackoverflow.com/questions/12655155/jinja2-for-loop-with-conditions\n",
    "* https://stackoverflow.com/questions/9198334/how-to-build-up-a-html-table-with-a-simple-for-loop-in-jinja2\n",
    "* https://sgros-students.blogspot.de/2013/04/lxc-python-bindings.html\n",
    "\n",
    "Ansible mit Python.\n",
    "\n",
    "* Module ansible\n",
    "* http://docs.ansible.com/ansible/latest/dev_guide/developing_api.html\n",
    "\n",
    "Shell\n",
    "\n",
    "* https://www.cyberciti.biz/faq/python-run-external-command-and-get-output/"
   ]
  },
  {
   "cell_type": "markdown",
   "metadata": {},
   "source": [
    "## Resüme\n",
    "\n",
    "Verwenden der `python-lxc` API.\n",
    "\n",
    "* Achtung läuft nur als `root`, da `lxc` als `root` ausgeführt werden muss.\n",
    "\n",
    "Aufrufen von Shellkommandos via Python. "
   ]
  },
  {
   "cell_type": "markdown",
   "metadata": {},
   "source": [
    "## Externe Programme mit Python"
   ]
  },
  {
   "cell_type": "markdown",
   "metadata": {},
   "source": [
    "* https://docs.python.org/3/library/subprocess.html\n",
    "\n",
    "* https://www.python-kurs.eu/os_modul_shell.php\n",
    "\n",
    "* http://www.admin-magazin.de/Das-Heft/2012/05/Kommandos-mit-dem-Subprocess-Modul-aufrufen\n",
    "\n",
    "* http://stackabuse.com/pythons-os-and-subprocess-popen-commands/"
   ]
  },
  {
   "cell_type": "markdown",
   "metadata": {},
   "source": [
    "Der einfachste Aufruf eines Kommandos:"
   ]
  },
  {
   "cell_type": "code",
   "execution_count": 1,
   "metadata": {},
   "outputs": [
    {
     "name": "stdout",
     "output_type": "stream",
     "text": [
      "insgesamt 68\n",
      "\n",
      "2896658  4 drwxrwxr-x 6 vagrant vagrant  4096 Mär  7 10:45 .\n",
      "\n",
      "2896655  4 drwxrwxr-x 6 vagrant vagrant  4096 Feb 17 20:38 ..\n",
      "\n",
      "2899210  4 drwxr-xr-x 2 vagrant vagrant  4096 Mär  7 07:39 .ipynb_checkpoints\n",
      "\n",
      "2899069 16 -rw-r--r-- 1 vagrant vagrant 12342 Mär  7 10:45 Net-Lab.ipynb\n",
      "\n",
      "2897601 20 -rw-r--r-- 1 vagrant vagrant 17885 Mär  7 09:49 notebook.tex\n",
      "\n",
      "2883593  4 drwxrwxr-x 8 vagrant vagrant  4096 Feb 21 12:01 python-kopf-bis-fuss\n",
      "\n",
      "2899214  4 drwxr-xr-x 7 vagrant vagrant  4096 Feb 28 11:56 python-kopf-bis-fuss-feb18\n",
      "\n",
      "2896941  4 drwxrwxr-x 3 vagrant vagrant  4096 Feb 17 20:38 python_routine_aufgaben\n",
      "\n",
      "2899121  8 -rw-r--r-- 1 vagrant vagrant  5143 Feb 28 10:45 Untitled.ipynb\n",
      "\n"
     ]
    }
   ],
   "source": [
    "import os\n",
    "dir = os.popen(\"ls -lisa\").readlines()\n",
    "for i in dir:\n",
    "    print(i)"
   ]
  },
  {
   "cell_type": "code",
   "execution_count": 2,
   "metadata": {},
   "outputs": [
    {
     "name": "stdout",
     "output_type": "stream",
     "text": [
      "insgesamt 64\n",
      "2896658  4 drwxrwxr-x 6 vagrant vagrant  4096 Mär  7 10:47 .\n",
      "2896655  4 drwxrwxr-x 6 vagrant vagrant  4096 Feb 17 20:38 ..\n",
      "2899210  4 drwxr-xr-x 2 vagrant vagrant  4096 Mär  7 07:39 .ipynb_checkpoints\n",
      "2899069 12 -rw-r--r-- 1 vagrant vagrant  8526 Mär  7 10:47 Net-Lab.ipynb\n",
      "2897601 20 -rw-r--r-- 1 vagrant vagrant 17885 Mär  7 09:49 notebook.tex\n",
      "2883593  4 drwxrwxr-x 8 vagrant vagrant  4096 Feb 21 12:01 python-kopf-bis-fuss\n",
      "2899214  4 drwxr-xr-x 7 vagrant vagrant  4096 Feb 28 11:56 python-kopf-bis-fuss-feb18\n",
      "2896941  4 drwxrwxr-x 3 vagrant vagrant  4096 Feb 17 20:38 python_routine_aufgaben\n",
      "2899121  8 -rw-r--r-- 1 vagrant vagrant  5143 Feb 28 10:45 Untitled.ipynb\n",
      "\n"
     ]
    }
   ],
   "source": [
    "import os\n",
    "dir = os.popen(\"ls -lisa\").read()\n",
    "print(dir)"
   ]
  },
  {
   "cell_type": "code",
   "execution_count": 3,
   "metadata": {},
   "outputs": [
    {
     "name": "stdout",
     "output_type": "stream",
     "text": [
      "Help on function popen in module os:\n",
      "\n",
      "popen(cmd, mode='r', buffering=-1)\n",
      "    # Supply os.popen()\n",
      "\n"
     ]
    }
   ],
   "source": [
    "help(os.popen)"
   ]
  },
  {
   "cell_type": "markdown",
   "metadata": {},
   "source": [
    "> Modul subprocess soll andere Module ersetzen:\n",
    "\n",
    "    os.system\n",
    "    os.spawn*\n",
    "    os.popen*\n",
    "    popen2.*\n",
    "    commands.*\n",
    "\n",
    "https://www.python-kurs.eu/os_modul_shell.php"
   ]
  },
  {
   "cell_type": "markdown",
   "metadata": {},
   "source": [
    "### Kommandos mit dem Subprocess-Modul"
   ]
  },
  {
   "cell_type": "code",
   "execution_count": 2,
   "metadata": {
    "ExecuteTime": {
     "end_time": "2018-03-07T14:11:16.428638Z",
     "start_time": "2018-03-07T14:11:16.416577Z"
    }
   },
   "outputs": [],
   "source": [
    "import subprocess"
   ]
  },
  {
   "cell_type": "markdown",
   "metadata": {},
   "source": [
    "> Im einfachsten Fall lässt sich ein Befehl mit der Methode call() aufrufen, wobei Befehl und Argument als Array übergeben werden:\n",
    "\n",
    "http://www.admin-magazin.de/Das-Heft/2012/05/Kommandos-mit-dem-Subprocess-Modul-aufrufen"
   ]
  },
  {
   "cell_type": "code",
   "execution_count": 6,
   "metadata": {
    "ExecuteTime": {
     "end_time": "2018-03-07T14:15:15.665417Z",
     "start_time": "2018-03-07T14:15:15.639399Z"
    }
   },
   "outputs": [
    {
     "data": {
      "text/plain": [
       "0"
      ]
     },
     "execution_count": 6,
     "metadata": {},
     "output_type": "execute_result"
    }
   ],
   "source": [
    "subprocess.call([\"ls\", \"-l\"])"
   ]
  },
  {
   "cell_type": "markdown",
   "metadata": {},
   "source": [
    "> Tatsächlich gibt der Aufruf von Call nur den Rückgabewert des aufgerufenen Befehls zurück, im Erfolgsfall, wie oben, also eine Null.\n",
    "\n",
    "http://www.admin-magazin.de/Das-Heft/2012/05/Kommandos-mit-dem-Subprocess-Modul-aufrufen"
   ]
  },
  {
   "cell_type": "code",
   "execution_count": 7,
   "metadata": {
    "ExecuteTime": {
     "end_time": "2018-03-07T14:15:18.011100Z",
     "start_time": "2018-03-07T14:15:17.986391Z"
    }
   },
   "outputs": [
    {
     "data": {
      "text/plain": [
       "0"
      ]
     },
     "execution_count": 7,
     "metadata": {},
     "output_type": "execute_result"
    }
   ],
   "source": [
    "subprocess.check_call([\"ls\", \"-l\"])"
   ]
  },
  {
   "cell_type": "markdown",
   "metadata": {},
   "source": [
    "Macht zunächst das gleiche wie `call()`, allerdings wirft es im Fehlerfall eine Exception."
   ]
  },
  {
   "cell_type": "code",
   "execution_count": 8,
   "metadata": {
    "ExecuteTime": {
     "end_time": "2018-03-07T14:15:49.941676Z",
     "start_time": "2018-03-07T14:15:49.924582Z"
    }
   },
   "outputs": [
    {
     "data": {
      "text/plain": [
       "2"
      ]
     },
     "execution_count": 8,
     "metadata": {},
     "output_type": "execute_result"
    }
   ],
   "source": [
    "subprocess.call([\"ls\", \"-l\", \"nicht_da\"])"
   ]
  },
  {
   "cell_type": "code",
   "execution_count": 9,
   "metadata": {
    "ExecuteTime": {
     "end_time": "2018-03-07T14:16:03.267395Z",
     "start_time": "2018-03-07T14:16:03.226153Z"
    }
   },
   "outputs": [
    {
     "ename": "CalledProcessError",
     "evalue": "Command '['ls', '-l', 'nicht_da']' returned non-zero exit status 2",
     "output_type": "error",
     "traceback": [
      "\u001b[0;31m---------------------------------------------------------------------------\u001b[0m",
      "\u001b[0;31mCalledProcessError\u001b[0m                        Traceback (most recent call last)",
      "\u001b[0;32m<ipython-input-9-246954683cc4>\u001b[0m in \u001b[0;36m<module>\u001b[0;34m()\u001b[0m\n\u001b[0;32m----> 1\u001b[0;31m \u001b[0msubprocess\u001b[0m\u001b[0;34m.\u001b[0m\u001b[0mcheck_call\u001b[0m\u001b[0;34m(\u001b[0m\u001b[0;34m[\u001b[0m\u001b[0;34m\"ls\"\u001b[0m\u001b[0;34m,\u001b[0m \u001b[0;34m\"-l\"\u001b[0m\u001b[0;34m,\u001b[0m \u001b[0;34m\"nicht_da\"\u001b[0m\u001b[0;34m]\u001b[0m\u001b[0;34m)\u001b[0m\u001b[0;34m\u001b[0m\u001b[0m\n\u001b[0m",
      "\u001b[0;32m/usr/lib/python3.5/subprocess.py\u001b[0m in \u001b[0;36mcheck_call\u001b[0;34m(*popenargs, **kwargs)\u001b[0m\n\u001b[1;32m    579\u001b[0m         \u001b[0;32mif\u001b[0m \u001b[0mcmd\u001b[0m \u001b[0;32mis\u001b[0m \u001b[0;32mNone\u001b[0m\u001b[0;34m:\u001b[0m\u001b[0;34m\u001b[0m\u001b[0m\n\u001b[1;32m    580\u001b[0m             \u001b[0mcmd\u001b[0m \u001b[0;34m=\u001b[0m \u001b[0mpopenargs\u001b[0m\u001b[0;34m[\u001b[0m\u001b[0;36m0\u001b[0m\u001b[0;34m]\u001b[0m\u001b[0;34m\u001b[0m\u001b[0m\n\u001b[0;32m--> 581\u001b[0;31m         \u001b[0;32mraise\u001b[0m \u001b[0mCalledProcessError\u001b[0m\u001b[0;34m(\u001b[0m\u001b[0mretcode\u001b[0m\u001b[0;34m,\u001b[0m \u001b[0mcmd\u001b[0m\u001b[0;34m)\u001b[0m\u001b[0;34m\u001b[0m\u001b[0m\n\u001b[0m\u001b[1;32m    582\u001b[0m     \u001b[0;32mreturn\u001b[0m \u001b[0;36m0\u001b[0m\u001b[0;34m\u001b[0m\u001b[0m\n\u001b[1;32m    583\u001b[0m \u001b[0;34m\u001b[0m\u001b[0m\n",
      "\u001b[0;31mCalledProcessError\u001b[0m: Command '['ls', '-l', 'nicht_da']' returned non-zero exit status 2"
     ]
    }
   ],
   "source": [
    "subprocess.check_call([\"ls\", \"-l\", \"nicht_da\"])"
   ]
  },
  {
   "cell_type": "markdown",
   "metadata": {},
   "source": [
    "#### Mit Output"
   ]
  },
  {
   "cell_type": "markdown",
   "metadata": {},
   "source": [
    "Die Methode `check_ouput()` liefert einen Bytestring der Ausgabe zurück."
   ]
  },
  {
   "cell_type": "code",
   "execution_count": 15,
   "metadata": {
    "ExecuteTime": {
     "end_time": "2018-03-07T14:21:37.715697Z",
     "start_time": "2018-03-07T14:21:37.695398Z"
    }
   },
   "outputs": [],
   "source": [
    "p = subprocess.check_output([\"ls\", \"-l\"])"
   ]
  },
  {
   "cell_type": "code",
   "execution_count": 16,
   "metadata": {
    "ExecuteTime": {
     "end_time": "2018-03-07T14:21:39.725358Z",
     "start_time": "2018-03-07T14:21:39.709243Z"
    }
   },
   "outputs": [
    {
     "data": {
      "text/plain": [
       "'insgesamt 24\\n-rw-rw-r-- 1 vagrant vagrant 24041 Mär  7 14:20 Net-Lab.ipynb\\n'"
      ]
     },
     "execution_count": 16,
     "metadata": {},
     "output_type": "execute_result"
    }
   ],
   "source": [
    "p.decode('utf-8')"
   ]
  },
  {
   "cell_type": "markdown",
   "metadata": {},
   "source": [
    "#### Python 3.5+"
   ]
  },
  {
   "cell_type": "code",
   "execution_count": 17,
   "metadata": {
    "ExecuteTime": {
     "end_time": "2018-03-07T14:33:01.298965Z",
     "start_time": "2018-03-07T14:33:01.273908Z"
    }
   },
   "outputs": [],
   "source": [
    "p = subprocess.run([\"ls\", \"-l\"])"
   ]
  },
  {
   "cell_type": "code",
   "execution_count": 18,
   "metadata": {
    "ExecuteTime": {
     "end_time": "2018-03-07T14:33:08.553656Z",
     "start_time": "2018-03-07T14:33:08.543934Z"
    }
   },
   "outputs": [
    {
     "data": {
      "text/plain": [
       "CompletedProcess(args=['ls', '-l'], returncode=0)"
      ]
     },
     "execution_count": 18,
     "metadata": {},
     "output_type": "execute_result"
    }
   ],
   "source": [
    "p"
   ]
  },
  {
   "cell_type": "markdown",
   "metadata": {},
   "source": [
    "## Shell und Pipe"
   ]
  },
  {
   "cell_type": "code",
   "execution_count": 21,
   "metadata": {
    "ExecuteTime": {
     "end_time": "2018-03-07T14:34:26.658633Z",
     "start_time": "2018-03-07T14:34:26.643874Z"
    }
   },
   "outputs": [],
   "source": [
    "import shlex"
   ]
  },
  {
   "cell_type": "code",
   "execution_count": 22,
   "metadata": {
    "ExecuteTime": {
     "end_time": "2018-03-07T14:34:27.145504Z",
     "start_time": "2018-03-07T14:34:27.137874Z"
    }
   },
   "outputs": [],
   "source": [
    "command_line = \"ls -l\""
   ]
  },
  {
   "cell_type": "code",
   "execution_count": 23,
   "metadata": {
    "ExecuteTime": {
     "end_time": "2018-03-07T14:34:27.541738Z",
     "start_time": "2018-03-07T14:34:27.532034Z"
    }
   },
   "outputs": [],
   "source": [
    "args = shlex.split(command_line)"
   ]
  },
  {
   "cell_type": "code",
   "execution_count": 24,
   "metadata": {
    "ExecuteTime": {
     "end_time": "2018-03-07T14:34:28.663057Z",
     "start_time": "2018-03-07T14:34:28.641152Z"
    }
   },
   "outputs": [
    {
     "name": "stdout",
     "output_type": "stream",
     "text": [
      "['ls', '-l']\n"
     ]
    }
   ],
   "source": [
    "print(args)"
   ]
  },
  {
   "cell_type": "code",
   "execution_count": 25,
   "metadata": {
    "ExecuteTime": {
     "end_time": "2018-03-07T14:34:32.873615Z",
     "start_time": "2018-03-07T14:34:32.849001Z"
    }
   },
   "outputs": [],
   "source": [
    "p = subprocess.run(args, stdout=subprocess.PIPE, shell=True)"
   ]
  },
  {
   "cell_type": "code",
   "execution_count": 26,
   "metadata": {
    "ExecuteTime": {
     "end_time": "2018-03-07T14:34:43.143373Z",
     "start_time": "2018-03-07T14:34:43.125883Z"
    }
   },
   "outputs": [
    {
     "data": {
      "text/plain": [
       "CompletedProcess(args=['ls', '-l'], returncode=0, stdout=b'Net-Lab.ipynb\\n')"
      ]
     },
     "execution_count": 26,
     "metadata": {},
     "output_type": "execute_result"
    }
   ],
   "source": [
    "p"
   ]
  },
  {
   "cell_type": "code",
   "execution_count": 28,
   "metadata": {
    "ExecuteTime": {
     "end_time": "2018-03-07T14:35:30.168592Z",
     "start_time": "2018-03-07T14:35:30.154297Z"
    }
   },
   "outputs": [
    {
     "data": {
      "text/plain": [
       "'Net-Lab.ipynb\\n'"
      ]
     },
     "execution_count": 28,
     "metadata": {},
     "output_type": "execute_result"
    }
   ],
   "source": [
    "p.stdout.decode('utf-8')"
   ]
  },
  {
   "cell_type": "markdown",
   "metadata": {},
   "source": [
    "## subprocess.Popen()\n",
    "\n",
    "Falls `call()` bzw. `run()` nicht ausreichend ist, soll die Klasse `Popen()` verwendet werden. Diese ist effektiver als die `os.popen()` Methode."
   ]
  },
  {
   "cell_type": "markdown",
   "metadata": {
    "ExecuteTime": {
     "end_time": "2018-03-07T14:43:09.407078Z",
     "start_time": "2018-03-07T14:43:09.390373Z"
    }
   },
   "source": [
    "```python\n",
    "subprocess.Popen(args, bufsize=0, executable=None, stdin=None, stdout=None, stderr=None, preexec_fn=None, close_fds=False, shell=False, cwd=None, env=None, universal_newlines=False, startupinfo=None, creationflags=0)```"
   ]
  },
  {
   "cell_type": "markdown",
   "metadata": {},
   "source": [
    "Der Parameter `args` kann als Array oder auch String angegeben werden."
   ]
  },
  {
   "cell_type": "markdown",
   "metadata": {},
   "source": [
    "Befehle die zu einer (Linux)Shell gehören werden mit `shell=True` angegeben werden."
   ]
  },
  {
   "cell_type": "code",
   "execution_count": 29,
   "metadata": {
    "ExecuteTime": {
     "end_time": "2018-03-07T14:35:41.559693Z",
     "start_time": "2018-03-07T14:35:41.532714Z"
    }
   },
   "outputs": [],
   "source": [
    "p = subprocess.Popen(\"ls -l\", stdout=subprocess.PIPE, shell=True)"
   ]
  },
  {
   "cell_type": "code",
   "execution_count": 33,
   "metadata": {
    "ExecuteTime": {
     "end_time": "2018-03-07T14:48:01.309808Z",
     "start_time": "2018-03-07T14:48:01.298816Z"
    }
   },
   "outputs": [
    {
     "data": {
      "text/plain": [
       "subprocess.Popen"
      ]
     },
     "execution_count": 33,
     "metadata": {},
     "output_type": "execute_result"
    }
   ],
   "source": [
    "type(p)"
   ]
  },
  {
   "cell_type": "code",
   "execution_count": 34,
   "metadata": {
    "ExecuteTime": {
     "end_time": "2018-03-07T14:48:10.835801Z",
     "start_time": "2018-03-07T14:48:10.827278Z"
    }
   },
   "outputs": [
    {
     "name": "stdout",
     "output_type": "stream",
     "text": [
      "Help on Popen in module subprocess object:\n",
      "\n",
      "class Popen(builtins.object)\n",
      " |  Methods defined here:\n",
      " |  \n",
      " |  __del__(self, _maxsize=9223372036854775807)\n",
      " |  \n",
      " |  __enter__(self)\n",
      " |  \n",
      " |  __exit__(self, type, value, traceback)\n",
      " |  \n",
      " |  __init__(self, args, bufsize=-1, executable=None, stdin=None, stdout=None, stderr=None, preexec_fn=None, close_fds=<object object at 0x7f9c0ce270d0>, shell=False, cwd=None, env=None, universal_newlines=False, startupinfo=None, creationflags=0, restore_signals=True, start_new_session=False, pass_fds=())\n",
      " |      Create new Popen instance.\n",
      " |  \n",
      " |  communicate(self, input=None, timeout=None)\n",
      " |      Interact with process: Send data to stdin.  Read data from\n",
      " |      stdout and stderr, until end-of-file is reached.  Wait for\n",
      " |      process to terminate.\n",
      " |      \n",
      " |      The optional \"input\" argument should be data to be sent to the\n",
      " |      child process (if self.universal_newlines is True, this should\n",
      " |      be a string; if it is False, \"input\" should be bytes), or\n",
      " |      None, if no data should be sent to the child.\n",
      " |      \n",
      " |      communicate() returns a tuple (stdout, stderr).  These will be\n",
      " |      bytes or, if self.universal_newlines was True, a string.\n",
      " |  \n",
      " |  kill(self)\n",
      " |      Kill the process with SIGKILL\n",
      " |  \n",
      " |  poll(self)\n",
      " |  \n",
      " |  send_signal(self, sig)\n",
      " |      Send a signal to the process.\n",
      " |  \n",
      " |  terminate(self)\n",
      " |      Terminate the process with SIGTERM\n",
      " |  \n",
      " |  wait(self, timeout=None, endtime=None)\n",
      " |      Wait for child process to terminate.  Returns returncode\n",
      " |      attribute.\n",
      " |  \n",
      " |  ----------------------------------------------------------------------\n",
      " |  Data descriptors defined here:\n",
      " |  \n",
      " |  __dict__\n",
      " |      dictionary for instance variables (if defined)\n",
      " |  \n",
      " |  __weakref__\n",
      " |      list of weak references to the object (if defined)\n",
      "\n"
     ]
    }
   ],
   "source": [
    "help(p)"
   ]
  },
  {
   "cell_type": "code",
   "execution_count": 35,
   "metadata": {
    "ExecuteTime": {
     "end_time": "2018-03-07T14:48:41.101831Z",
     "start_time": "2018-03-07T14:48:41.096194Z"
    }
   },
   "outputs": [],
   "source": [
    "(output, err) = p.communicate()"
   ]
  },
  {
   "cell_type": "code",
   "execution_count": 36,
   "metadata": {
    "ExecuteTime": {
     "end_time": "2018-03-07T14:48:41.738771Z",
     "start_time": "2018-03-07T14:48:41.727752Z"
    }
   },
   "outputs": [
    {
     "name": "stdout",
     "output_type": "stream",
     "text": [
      "insgesamt 28\n",
      "-rw-rw-r-- 1 vagrant vagrant 25668 Mär  7 14:34 Net-Lab.ipynb\n",
      "\n"
     ]
    }
   ],
   "source": [
    "print(output.decode(\"utf-8\"))"
   ]
  },
  {
   "cell_type": "code",
   "execution_count": 37,
   "metadata": {
    "ExecuteTime": {
     "end_time": "2018-03-07T14:48:44.801475Z",
     "start_time": "2018-03-07T14:48:44.790519Z"
    }
   },
   "outputs": [
    {
     "name": "stdout",
     "output_type": "stream",
     "text": [
      "None\n"
     ]
    }
   ],
   "source": [
    "print(err)"
   ]
  },
  {
   "cell_type": "code",
   "execution_count": 66,
   "metadata": {
    "ExecuteTime": {
     "end_time": "2018-03-07T14:53:10.997687Z",
     "start_time": "2018-03-07T14:53:10.973906Z"
    }
   },
   "outputs": [],
   "source": [
    "p = subprocess.Popen(\"date\", stdout=subprocess.PIPE, shell=True)"
   ]
  },
  {
   "cell_type": "code",
   "execution_count": 67,
   "metadata": {
    "ExecuteTime": {
     "end_time": "2018-03-07T14:53:12.188487Z",
     "start_time": "2018-03-07T14:53:12.173632Z"
    }
   },
   "outputs": [],
   "source": [
    "(output, err) = p.communicate()"
   ]
  },
  {
   "cell_type": "code",
   "execution_count": 68,
   "metadata": {
    "ExecuteTime": {
     "end_time": "2018-03-07T14:53:12.721885Z",
     "start_time": "2018-03-07T14:53:12.705811Z"
    }
   },
   "outputs": [
    {
     "name": "stdout",
     "output_type": "stream",
     "text": [
      "Mi 7. Mär 14:53:10 UTC 2018\n",
      "\n"
     ]
    }
   ],
   "source": [
    "print(output.decode('utf-8'))"
   ]
  },
  {
   "cell_type": "markdown",
   "metadata": {},
   "source": [
    "Warten bis der Subprocess beendet ist."
   ]
  },
  {
   "cell_type": "code",
   "execution_count": 69,
   "metadata": {
    "ExecuteTime": {
     "end_time": "2018-03-07T14:53:16.586209Z",
     "start_time": "2018-03-07T14:53:16.574399Z"
    }
   },
   "outputs": [],
   "source": [
    "p_status = p.wait()"
   ]
  },
  {
   "cell_type": "code",
   "execution_count": 70,
   "metadata": {
    "ExecuteTime": {
     "end_time": "2018-03-07T14:53:19.338934Z",
     "start_time": "2018-03-07T14:53:19.322902Z"
    }
   },
   "outputs": [
    {
     "name": "stdout",
     "output_type": "stream",
     "text": [
      "Mi 7. Mär 14:53:10 UTC 2018\n",
      "\n"
     ]
    }
   ],
   "source": [
    "print(output.decode('utf-8'))"
   ]
  },
  {
   "cell_type": "code",
   "execution_count": 71,
   "metadata": {
    "ExecuteTime": {
     "end_time": "2018-03-07T14:53:21.284386Z",
     "start_time": "2018-03-07T14:53:21.275894Z"
    }
   },
   "outputs": [
    {
     "name": "stdout",
     "output_type": "stream",
     "text": [
      "0\n"
     ]
    }
   ],
   "source": [
    "print(p_status)"
   ]
  },
  {
   "cell_type": "markdown",
   "metadata": {},
   "source": [
    "## Bridge Data"
   ]
  },
  {
   "cell_type": "code",
   "execution_count": 43,
   "metadata": {
    "ExecuteTime": {
     "end_time": "2018-03-07T14:49:51.338278Z",
     "start_time": "2018-03-07T14:49:51.319460Z"
    }
   },
   "outputs": [],
   "source": [
    "p = subprocess.Popen(\"pgrep -a dnsmasq | grep lxc | cut -d ' ' -f 2-\", stdout=subprocess.PIPE, shell=True)"
   ]
  },
  {
   "cell_type": "code",
   "execution_count": 44,
   "metadata": {
    "ExecuteTime": {
     "end_time": "2018-03-07T14:49:55.348952Z",
     "start_time": "2018-03-07T14:49:55.335178Z"
    }
   },
   "outputs": [],
   "source": [
    "(output, err) = p.communicate()"
   ]
  },
  {
   "cell_type": "code",
   "execution_count": 45,
   "metadata": {
    "ExecuteTime": {
     "end_time": "2018-03-07T14:49:56.317119Z",
     "start_time": "2018-03-07T14:49:56.305782Z"
    }
   },
   "outputs": [
    {
     "name": "stdout",
     "output_type": "stream",
     "text": [
      "dnsmasq -s lxc -S /lxc/ -u lxc-dnsmasq --strict-order --bind-interfaces --pid-file=/run/lxc/dnsmasq.pid --listen-address 10.0.3.1 --dhcp-range 10.0.3.2,10.0.3.254 --dhcp-lease-max=253 --dhcp-no-override --except-interface=lo --interface=lxcbr0 --dhcp-leasefile=/var/lib/misc/dnsmasq.lxcbr0.leases --dhcp-authoritative\n",
      "\n"
     ]
    }
   ],
   "source": [
    "print(output.decode('utf-8'))"
   ]
  },
  {
   "cell_type": "code",
   "execution_count": 47,
   "metadata": {
    "ExecuteTime": {
     "end_time": "2018-03-07T14:51:09.708953Z",
     "start_time": "2018-03-07T14:51:09.694425Z"
    }
   },
   "outputs": [],
   "source": [
    "dnsmasq_opt = shlex.split(output.decode('utf-8'))"
   ]
  },
  {
   "cell_type": "code",
   "execution_count": 48,
   "metadata": {
    "ExecuteTime": {
     "end_time": "2018-03-07T14:51:15.985143Z",
     "start_time": "2018-03-07T14:51:15.965787Z"
    }
   },
   "outputs": [
    {
     "data": {
      "text/plain": [
       "['dnsmasq',\n",
       " '-s',\n",
       " 'lxc',\n",
       " '-S',\n",
       " '/lxc/',\n",
       " '-u',\n",
       " 'lxc-dnsmasq',\n",
       " '--strict-order',\n",
       " '--bind-interfaces',\n",
       " '--pid-file=/run/lxc/dnsmasq.pid',\n",
       " '--listen-address',\n",
       " '10.0.3.1',\n",
       " '--dhcp-range',\n",
       " '10.0.3.2,10.0.3.254',\n",
       " '--dhcp-lease-max=253',\n",
       " '--dhcp-no-override',\n",
       " '--except-interface=lo',\n",
       " '--interface=lxcbr0',\n",
       " '--dhcp-leasefile=/var/lib/misc/dnsmasq.lxcbr0.leases',\n",
       " '--dhcp-authoritative']"
      ]
     },
     "execution_count": 48,
     "metadata": {},
     "output_type": "execute_result"
    }
   ],
   "source": [
    "dnsmasq_opt"
   ]
  },
  {
   "cell_type": "code",
   "execution_count": 82,
   "metadata": {
    "ExecuteTime": {
     "end_time": "2018-03-07T16:06:58.163193Z",
     "start_time": "2018-03-07T16:06:58.154464Z"
    }
   },
   "outputs": [],
   "source": [
    "lxcbr0 = {}"
   ]
  },
  {
   "cell_type": "code",
   "execution_count": 83,
   "metadata": {
    "ExecuteTime": {
     "end_time": "2018-03-07T16:06:58.807943Z",
     "start_time": "2018-03-07T16:06:58.797539Z"
    }
   },
   "outputs": [
    {
     "data": {
      "text/plain": [
       "{}"
      ]
     },
     "execution_count": 83,
     "metadata": {},
     "output_type": "execute_result"
    }
   ],
   "source": [
    "lxcbr0"
   ]
  },
  {
   "cell_type": "code",
   "execution_count": 84,
   "metadata": {
    "ExecuteTime": {
     "end_time": "2018-03-07T16:06:59.330676Z",
     "start_time": "2018-03-07T16:06:59.321446Z"
    }
   },
   "outputs": [],
   "source": [
    "lxcbr0[dnsmasq_opt[0]] = {}"
   ]
  },
  {
   "cell_type": "code",
   "execution_count": 85,
   "metadata": {
    "ExecuteTime": {
     "end_time": "2018-03-07T16:06:59.974750Z",
     "start_time": "2018-03-07T16:06:59.956467Z"
    }
   },
   "outputs": [
    {
     "data": {
      "text/plain": [
       "{'dnsmasq': {}}"
      ]
     },
     "execution_count": 85,
     "metadata": {},
     "output_type": "execute_result"
    }
   ],
   "source": [
    "lxcbr0"
   ]
  },
  {
   "cell_type": "code",
   "execution_count": 86,
   "metadata": {
    "ExecuteTime": {
     "end_time": "2018-03-07T16:07:00.582754Z",
     "start_time": "2018-03-07T16:07:00.548740Z"
    }
   },
   "outputs": [],
   "source": [
    "import re\n",
    "for i in dnsmasq_opt:\n",
    "    fullname_opts = [\"--conf-file\", \"--pid-file\", \"--dhcp-lease-max\", \"--except-interface\", \"--interface\", \"--dhcp-leasefile\"]\n",
    "    #             domain, local, user\n",
    "    value_opts = [\"-s\", \"-S\", \"-u\", \"--listen-address\", \"--dhcp-range\"]\n",
    "    single_opts = [ '--strict-order', '--bind-interfaces', '--dhcp-no-override', '--dhcp-authoritative' ]\n",
    "    for j in fullname_opts:\n",
    "        if j in i:\n",
    "            lxcbr0[\"dnsmasq\"][j.replace(\"-\",\"\")] = i.split('=')[1]\n",
    "    for j in value_opts:\n",
    "        if re.match(j, i):\n",
    "            lxcbr0[\"dnsmasq\"][j.replace(\"-\",\"\")] = dnsmasq_opt[dnsmasq_opt.index(i)+1]\n",
    "    for j in single_opts:\n",
    "        if j in i:\n",
    "            lxcbr0[\"dnsmasq\"][j.replace(\"-\",\"\")] = True"
   ]
  },
  {
   "cell_type": "code",
   "execution_count": 87,
   "metadata": {
    "ExecuteTime": {
     "end_time": "2018-03-07T16:07:01.213621Z",
     "start_time": "2018-03-07T16:07:01.199623Z"
    }
   },
   "outputs": [
    {
     "data": {
      "text/plain": [
       "{'dnsmasq': {'S': '/lxc/',\n",
       "  'bindinterfaces': True,\n",
       "  'dhcpauthoritative': True,\n",
       "  'dhcpleasefile': '/var/lib/misc/dnsmasq.lxcbr0.leases',\n",
       "  'dhcpleasemax': '253',\n",
       "  'dhcpnooverride': True,\n",
       "  'dhcprange': '10.0.3.2,10.0.3.254',\n",
       "  'exceptinterface': 'lo',\n",
       "  'interface': 'lxcbr0',\n",
       "  'listenaddress': '10.0.3.1',\n",
       "  'pidfile': '/run/lxc/dnsmasq.pid',\n",
       "  's': 'lxc',\n",
       "  'strictorder': True,\n",
       "  'u': 'lxc-dnsmasq'}}"
      ]
     },
     "execution_count": 87,
     "metadata": {},
     "output_type": "execute_result"
    }
   ],
   "source": [
    "lxcbr0"
   ]
  },
  {
   "cell_type": "code",
   "execution_count": 90,
   "metadata": {
    "ExecuteTime": {
     "end_time": "2018-03-07T16:17:55.995679Z",
     "start_time": "2018-03-07T16:17:55.985706Z"
    }
   },
   "outputs": [],
   "source": [
    "lxcbr0[\"dnsmasq\"][\"domain\"] = lxcbr0[\"dnsmasq\"].pop(\"s\")"
   ]
  },
  {
   "cell_type": "code",
   "execution_count": 91,
   "metadata": {
    "ExecuteTime": {
     "end_time": "2018-03-07T16:18:01.312452Z",
     "start_time": "2018-03-07T16:18:01.291963Z"
    }
   },
   "outputs": [
    {
     "data": {
      "text/plain": [
       "{'dnsmasq': {'S': '/lxc/',\n",
       "  'bindinterfaces': True,\n",
       "  'dhcpauthoritative': True,\n",
       "  'dhcpleasefile': '/var/lib/misc/dnsmasq.lxcbr0.leases',\n",
       "  'dhcpleasemax': '253',\n",
       "  'dhcpnooverride': True,\n",
       "  'dhcprange': '10.0.3.2,10.0.3.254',\n",
       "  'domain': 'lxc',\n",
       "  'exceptinterface': 'lo',\n",
       "  'interface': 'lxcbr0',\n",
       "  'listenaddress': '10.0.3.1',\n",
       "  'pidfile': '/run/lxc/dnsmasq.pid',\n",
       "  'strictorder': True,\n",
       "  'u': 'lxc-dnsmasq'}}"
      ]
     },
     "execution_count": 91,
     "metadata": {},
     "output_type": "execute_result"
    }
   ],
   "source": [
    "lxcbr0"
   ]
  },
  {
   "cell_type": "code",
   "execution_count": 92,
   "metadata": {
    "ExecuteTime": {
     "end_time": "2018-03-07T16:18:41.121291Z",
     "start_time": "2018-03-07T16:18:41.112363Z"
    }
   },
   "outputs": [],
   "source": [
    "lxcbr0[\"dnsmasq\"][\"user\"] = lxcbr0[\"dnsmasq\"].pop(\"u\")\n",
    "lxcbr0[\"dnsmasq\"][\"local\"] = lxcbr0[\"dnsmasq\"].pop(\"S\")"
   ]
  },
  {
   "cell_type": "code",
   "execution_count": 93,
   "metadata": {
    "ExecuteTime": {
     "end_time": "2018-03-07T16:18:46.851573Z",
     "start_time": "2018-03-07T16:18:46.844177Z"
    }
   },
   "outputs": [
    {
     "data": {
      "text/plain": [
       "{'dnsmasq': {'bindinterfaces': True,\n",
       "  'dhcpauthoritative': True,\n",
       "  'dhcpleasefile': '/var/lib/misc/dnsmasq.lxcbr0.leases',\n",
       "  'dhcpleasemax': '253',\n",
       "  'dhcpnooverride': True,\n",
       "  'dhcprange': '10.0.3.2,10.0.3.254',\n",
       "  'domain': 'lxc',\n",
       "  'exceptinterface': 'lo',\n",
       "  'interface': 'lxcbr0',\n",
       "  'listenaddress': '10.0.3.1',\n",
       "  'local': '/lxc/',\n",
       "  'pidfile': '/run/lxc/dnsmasq.pid',\n",
       "  'strictorder': True,\n",
       "  'user': 'lxc-dnsmasq'}}"
      ]
     },
     "execution_count": 93,
     "metadata": {},
     "output_type": "execute_result"
    }
   ],
   "source": [
    "lxcbr0"
   ]
  },
  {
   "cell_type": "code",
   "execution_count": null,
   "metadata": {},
   "outputs": [],
   "source": []
  }
 ],
 "metadata": {
  "_draft": {
   "nbviewer_url": "https://gist.github.com/1ffba7ec6094c6c80a5dc064baf5940c"
  },
  "gist": {
   "data": {
    "description": "rdf/itec/Net-Lab.ipynb",
    "public": true
   },
   "id": "1ffba7ec6094c6c80a5dc064baf5940c"
  },
  "kernelspec": {
   "display_name": "Python 3",
   "language": "python",
   "name": "python3"
  },
  "language_info": {
   "codemirror_mode": {
    "name": "ipython",
    "version": 3
   },
   "file_extension": ".py",
   "mimetype": "text/x-python",
   "name": "python",
   "nbconvert_exporter": "python",
   "pygments_lexer": "ipython3",
   "version": "3.5.2"
  },
  "toc": {
   "nav_menu": {},
   "number_sections": true,
   "sideBar": true,
   "skip_h1_title": false,
   "title_cell": "Table of Contents",
   "title_sidebar": "Contents",
   "toc_cell": false,
   "toc_position": {},
   "toc_section_display": true,
   "toc_window_display": false
  }
 },
 "nbformat": 4,
 "nbformat_minor": 2
}
